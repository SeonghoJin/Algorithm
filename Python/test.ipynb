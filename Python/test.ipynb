list1=['a','a','a','a','b','b','b']
a1='a'
b1='b'
counta1=list1.count('a')
countb1=list1.count('b')
result=(a1,counta1,b1,countb1)
print("src =", "'aaaabbb'")
print('\'',a1,counta1,b1,countb1,'\'',sep='')