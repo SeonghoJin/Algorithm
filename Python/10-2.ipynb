{
 "metadata": {
  "language_info": {
   "codemirror_mode": {
    "name": "ipython",
    "version": 3
   },
   "file_extension": ".py",
   "mimetype": "text/x-python",
   "name": "python",
   "nbconvert_exporter": "python",
   "pygments_lexer": "ipython3",
   "version": "3.8.5-final"
  },
  "orig_nbformat": 2,
  "kernelspec": {
   "name": "Python 3.8.5 32-bit",
   "display_name": "Python 3.8.5 32-bit",
   "metadata": {
    "interpreter": {
     "hash": "7987c57931f2365761dc2a5f85e647decf73af6edff0c78918b92bfe7c5512ba"
    }
   }
  }
 },
 "nbformat": 4,
 "nbformat_minor": 2,
 "cells": [
  {
   "cell_type": "code",
   "execution_count": 1,
   "metadata": {},
   "outputs": [],
   "source": [
    "import sympy as sympy\n",
    "x = sympy.Symbol('X')\n",
    "mu = sympy.integrate(x*1/2, (x, -1, 1))\n",
    "mu\n",
    "EX2 = sympy.integrate(x**2*1/2, (x, -1, 1))\n",
    "EX2\n",
    "sigma2 = EX2 - mu**2\n",
    "sigma2\n",
    "sigma = sympy.sqrt(sigma2)\n",
    "sigma"
   ]
  }
 ]
}